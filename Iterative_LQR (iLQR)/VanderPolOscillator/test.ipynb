{
 "cells": [
  {
   "cell_type": "code",
   "execution_count": 28,
   "metadata": {},
   "outputs": [
    {
     "data": {
      "text/plain": [
       "array([[1., 1.],\n",
       "       [1., 1.],\n",
       "       [1., 1.],\n",
       "       [1., 1.],\n",
       "       [1., 1.],\n",
       "       [1., 1.],\n",
       "       [1., 1.],\n",
       "       [1., 1.],\n",
       "       [1., 1.],\n",
       "       [1., 1.]])"
      ]
     },
     "execution_count": 28,
     "metadata": {},
     "output_type": "execute_result"
    }
   ],
   "source": [
    "import numpy as np\n",
    "\n",
    "y = np.ones((10,2))\n",
    "y"
   ]
  },
  {
   "cell_type": "code",
   "execution_count": 31,
   "metadata": {},
   "outputs": [
    {
     "data": {
      "text/plain": [
       "array([1., 1.])"
      ]
     },
     "execution_count": 31,
     "metadata": {},
     "output_type": "execute_result"
    }
   ],
   "source": [
    "y[-1].reshape((2,))"
   ]
  },
  {
   "cell_type": "code",
   "execution_count": 34,
   "metadata": {},
   "outputs": [
    {
     "data": {
      "text/plain": [
       "array([[0., 0.],\n",
       "       [1., 1.]])"
      ]
     },
     "execution_count": 34,
     "metadata": {},
     "output_type": "execute_result"
    }
   ],
   "source": [
    "Y= np.zeros((2,2))\n",
    "Y[1,:]=y[-1].reshape((1,2))\n",
    "Y"
   ]
  },
  {
   "cell_type": "code",
   "execution_count": 38,
   "metadata": {},
   "outputs": [
    {
     "data": {
      "text/plain": [
       "array([[2.],\n",
       "       [0.]])"
      ]
     },
     "execution_count": 38,
     "metadata": {},
     "output_type": "execute_result"
    }
   ],
   "source": [
    "init_state = np.zeros((2,1))\n",
    "init_state[0] = 2\n",
    "init_state"
   ]
  },
  {
   "cell_type": "code",
   "execution_count": 36,
   "metadata": {},
   "outputs": [
    {
     "data": {
      "text/plain": [
       "array([[1., 1.],\n",
       "       [1., 1.],\n",
       "       [1., 1.],\n",
       "       [1., 1.],\n",
       "       [1., 1.],\n",
       "       [1., 1.],\n",
       "       [1., 1.],\n",
       "       [1., 1.],\n",
       "       [1., 1.],\n",
       "       [1., 1.]])"
      ]
     },
     "execution_count": 36,
     "metadata": {},
     "output_type": "execute_result"
    }
   ],
   "source": [
    "A = []\n",
    "for _ in range(10):\n",
    "    A.append(y[-1])\n",
    "\n",
    "np.array(A)"
   ]
  },
  {
   "cell_type": "code",
   "execution_count": 47,
   "metadata": {},
   "outputs": [
    {
     "data": {
      "text/plain": [
       "{'U': {0: [1, 2], 1: 1}}"
      ]
     },
     "execution_count": 47,
     "metadata": {},
     "output_type": "execute_result"
    }
   ],
   "source": [
    "Pi = {}\n",
    "Pi['U'] = {}\n",
    "\n",
    "c = np.array([1,2])\n",
    "Pi['U'][0] = np.ndarray.tolist(c)\n",
    "Pi['U'][1] = 1\n",
    "\n",
    "Pi"
   ]
  },
  {
   "cell_type": "code",
   "execution_count": 53,
   "metadata": {},
   "outputs": [
    {
     "data": {
      "text/plain": [
       "array([0])"
      ]
     },
     "execution_count": 53,
     "metadata": {},
     "output_type": "execute_result"
    }
   ],
   "source": [
    "u_t = np.array([0]).reshape(1,1)\n",
    "u_t[0]"
   ]
  },
  {
   "cell_type": "code",
   "execution_count": 60,
   "metadata": {},
   "outputs": [
    {
     "name": "stdout",
     "output_type": "stream",
     "text": [
      "Parent sys_id method\n",
      "x_t: 1, u_t: 2\n",
      "Child sys_id method\n",
      "x_t: 1, u_t: 2\n"
     ]
    }
   ],
   "source": [
    "class ParentClass:\n",
    "    def sys_id(self, x_t, u_t):\n",
    "        print(\"Parent sys_id method\")\n",
    "        print(f\"x_t: {x_t}, u_t: {u_t}\")\n",
    "\n",
    "class ChildClass(ParentClass):\n",
    "    def sys_id(self, x_t, u_t):\n",
    "        print(\"Child sys_id method\")\n",
    "        print(f\"x_t: {x_t}, u_t: {u_t}\")\n",
    "\n",
    "# Usage\n",
    "parent_instance = ParentClass()\n",
    "child_instance = ChildClass()\n",
    "\n",
    "parent_instance.sys_id(1, 2)  # Works\n",
    "child_instance.sys_id(1, 2)   # Works\n"
   ]
  },
  {
   "cell_type": "code",
   "execution_count": 59,
   "metadata": {},
   "outputs": [
    {
     "name": "stdout",
     "output_type": "stream",
     "text": [
      "Parent sys_id method\n",
      "x_t: 1, u_t: 2\n",
      "Child sys_id method\n",
      "u_nom: 1\n"
     ]
    }
   ],
   "source": [
    "class ParentClass:\n",
    "    def sys_id(self, x_t, u_t):\n",
    "        print(\"Parent sys_id method\")\n",
    "        print(f\"x_t: {x_t}, u_t: {u_t}\")\n",
    "\n",
    "class ChildClass(ParentClass):\n",
    "    def sys_id(self, u_nom):\n",
    "        print(\"Child sys_id method\")\n",
    "        print(f\"u_nom: {u_nom}\")\n",
    "\n",
    "# Usage\n",
    "parent_instance = ParentClass()\n",
    "child_instance = ChildClass()\n",
    "\n",
    "parent_instance.sys_id(1, 2)  # Works\n",
    "child_instance.sys_id(1)      # Works differently\n"
   ]
  }
 ],
 "metadata": {
  "kernelspec": {
   "display_name": "base",
   "language": "python",
   "name": "python3"
  },
  "language_info": {
   "codemirror_mode": {
    "name": "ipython",
    "version": 3
   },
   "file_extension": ".py",
   "mimetype": "text/x-python",
   "name": "python",
   "nbconvert_exporter": "python",
   "pygments_lexer": "ipython3",
   "version": "3.11.5"
  }
 },
 "nbformat": 4,
 "nbformat_minor": 2
}
